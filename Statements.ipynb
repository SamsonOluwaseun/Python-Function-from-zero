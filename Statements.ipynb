{
<<<<<<< HEAD
=======
  "nbformat": 4,
  "nbformat_minor": 0,
  "metadata": {
    "colab": {
      "provenance": [],
      "toc_visible": true,
      "authorship_tag": "ABX9TyO99W3RpmLMk+Rg7s1V4Lgj",
      "include_colab_link": true
    },
    "kernelspec": {
      "name": "python3",
      "display_name": "Python 3"
    },
    "language_info": {
      "name": "python"
    }
  },
>>>>>>> 044138d0c65cbc6a0fe0f1ca3d18add728f7285b
  "cells": [
    {
      "cell_type": "markdown",
      "metadata": {
        "colab_type": "text",
        "id": "view-in-github"
      },
      "source": [
        "<a href=\"https://colab.research.google.com/github/SamsonOluwaseun/Python-Function-from-zero/blob/main/Statements.ipynb\" target=\"_parent\"><img src=\"https://colab.research.google.com/assets/colab-badge.svg\" alt=\"Open In Colab\"/></a>"
      ]
    },
    {
      "cell_type": "markdown",
      "metadata": {
        "id": "C9T8Ar1R2WjX"
      },
      "source": [
        "## Learning statements"
      ]
    },
    {
      "cell_type": "code",
      "execution_count": null,
      "metadata": {
        "colab": {
          "base_uri": "https://localhost:8080/"
        },
        "id": "a-z4Ap7Q1vyT",
        "outputId": "0473abd8-de73-4f71-e5c2-3036d06c98a4"
      },
      "outputs": [
        {
          "name": "stdout",
          "output_type": "stream",
          "text": [
            "hello world\n"
          ]
        }
      ],
      "source": [
        "print(\"hello world\")"
      ]
    },
    {
      "cell_type": "markdown",
      "metadata": {
        "id": "e2IiWoT12f8h"
      },
      "source": [
        "### Variables"
      ]
    },
    {
      "cell_type": "code",
      "execution_count": 6,
      "metadata": {
        "id": "lgYhn0nT2KFH"
      },
<<<<<<< HEAD
      "outputs": [],
      "source": [
        "variable = 1"
      ]
=======
      "execution_count": null,
      "outputs": []
>>>>>>> 044138d0c65cbc6a0fe0f1ca3d18add728f7285b
    },
    {
      "cell_type": "markdown",
      "metadata": {
        "id": "pFtKRnh_3pxl"
      },
      "source": [
        "## Data Structures"
      ]
    },
    {
      "cell_type": "markdown",
      "metadata": {
        "id": "FSK1QbKw4NwE"
      },
      "source": [
        "### Lists"
      ]
    },
    {
      "cell_type": "code",
      "execution_count": 8,
      "metadata": {
        "id": "dKG2Smnp3y6F"
      },
<<<<<<< HEAD
      "outputs": [],
      "source": [
        "my_list= [1,2,3]"
      ]
=======
      "execution_count": null,
      "outputs": []
>>>>>>> 044138d0c65cbc6a0fe0f1ca3d18add728f7285b
    },
    {
      "cell_type": "code",
      "execution_count": 10,
      "metadata": {
        "colab": {
          "base_uri": "https://localhost:8080/"
        },
        "id": "1L7Vih7p32fi",
        "outputId": "02dd5c48-790a-401c-cae7-c23b88d7bed6"
      },
<<<<<<< HEAD
=======
      "execution_count": null,
>>>>>>> 044138d0c65cbc6a0fe0f1ca3d18add728f7285b
      "outputs": [
        {
          "data": {
            "text/plain": [
              "1"
            ]
          },
          "execution_count": 10,
          "metadata": {},
          "output_type": "execute_result"
        }
      ],
      "source": [
        "my_list[0]"
      ]
    },
    {
      "cell_type": "code",
      "execution_count": null,
      "metadata": {
        "id": "wHvIeHIY5Gyc"
      },
      "outputs": [],
      "source": []
    },
    {
      "cell_type": "markdown",
      "metadata": {
        "id": "VENUXL0h42ZB"
      },
      "source": [
        "### Dictionary\n",
        "Key value pairs"
      ]
    },
    {
      "cell_type": "code",
      "execution_count": 11,
      "metadata": {
        "id": "42owWU7m4LKo"
      },
<<<<<<< HEAD
      "outputs": [],
      "source": [
        "my_dict={1:\"one\",2:\"Two\"}"
      ]
=======
      "execution_count": null,
      "outputs": []
>>>>>>> 044138d0c65cbc6a0fe0f1ca3d18add728f7285b
    },
    {
      "cell_type": "code",
      "execution_count": 12,
      "metadata": {
        "colab": {
          "base_uri": "https://localhost:8080/"
        },
        "id": "rl6V9x1B5BzB",
        "outputId": "31cbfa02-6a16-4e1f-b604-269e6ccc35c4"
      },
<<<<<<< HEAD
=======
      "execution_count": null,
>>>>>>> 044138d0c65cbc6a0fe0f1ca3d18add728f7285b
      "outputs": [
        {
          "data": {
            "text/plain": [
              "dict"
            ]
          },
          "execution_count": 12,
          "metadata": {},
          "output_type": "execute_result"
        }
      ],
      "source": [
        "type(my_dict)"
      ]
    },
    {
      "cell_type": "code",
      "execution_count": 13,
      "metadata": {
        "colab": {
          "base_uri": "https://localhost:8080/"
        },
        "id": "K6qLcDhc5EcS",
        "outputId": "876e7660-ec9b-403f-f68a-2e28112ac39a"
      },
<<<<<<< HEAD
=======
      "execution_count": null,
>>>>>>> 044138d0c65cbc6a0fe0f1ca3d18add728f7285b
      "outputs": [
        {
          "data": {
            "text/plain": [
              "dict_keys([1, 2])"
            ]
          },
          "execution_count": 13,
          "metadata": {},
          "output_type": "execute_result"
        }
      ],
      "source": [
        "my_dict.keys()"
      ]
    },
    {
      "cell_type": "code",
      "execution_count": 14,
      "metadata": {
        "colab": {
          "base_uri": "https://localhost:8080/"
        },
        "id": "79lppPXK5Q_n",
        "outputId": "cc462f3d-2f8a-4d40-f781-97ebd3b5f268"
      },
<<<<<<< HEAD
=======
      "execution_count": null,
>>>>>>> 044138d0c65cbc6a0fe0f1ca3d18add728f7285b
      "outputs": [
        {
          "data": {
            "text/plain": [
              "dict_values(['one', 'Two'])"
            ]
          },
          "execution_count": 14,
          "metadata": {},
          "output_type": "execute_result"
        }
      ],
      "source": [
        "my_dict.values()"
      ]
    },
    {
      "cell_type": "markdown",
      "metadata": {
        "id": "JNPNdVC85beR"
      },
      "source": [
        "### Loops"
      ]
    },
    {
      "cell_type": "code",
      "execution_count": 15,
      "metadata": {
        "colab": {
          "base_uri": "https://localhost:8080/"
        },
        "id": "OxWo16jL5Uow",
        "outputId": "0001fc36-1632-4732-85bd-793f0959b5ba"
      },
<<<<<<< HEAD
=======
      "execution_count": null,
>>>>>>> 044138d0c65cbc6a0fe0f1ca3d18add728f7285b
      "outputs": [
        {
          "name": "stdout",
          "output_type": "stream",
          "text": [
            "this is my key: 1\n",
            "this is my value: one\n",
            "this is my key: 2\n",
            "this is my value: Two\n"
          ]
        }
      ],
      "source": [
        "for key,value in my_dict.items():\n",
        "  print(f\"this is my key: {key}\")\n",
        "  print(f\"this is my value: {value}\")"
      ]
    },
    {
      "cell_type": "code",
      "execution_count": 16,
      "metadata": {
        "colab": {
          "base_uri": "https://localhost:8080/"
        },
        "id": "CwMUQSyi6HiT",
        "outputId": "1c8019dd-4171-4f45-a3a4-916acf2ac126"
      },
<<<<<<< HEAD
=======
      "execution_count": null,
>>>>>>> 044138d0c65cbc6a0fe0f1ca3d18add728f7285b
      "outputs": [
        {
          "name": "stdout",
          "output_type": "stream",
          "text": [
            "This is a value in my list: 1\n",
            "This is a value in my list: 2\n",
            "This is a value in my list: 3\n"
          ]
        }
      ],
      "source": [
        "for items in my_list:\n",
        "  print(f\"This is a value in my list: {items}\")\n"
      ]
    },
    {
      "cell_type": "markdown",
      "metadata": {},
      "source": [
        "## Style of Functions"
      ]
    },
    {
      "cell_type": "markdown",
      "source": [
        "# Functions"
      ],
      "metadata": {
        "id": "5E7qoyPwUin2"
      }
    },
    {
      "cell_type": "markdown",
      "source": [
        "### Styles of Functions"
      ],
      "metadata": {
        "id": "BsjtF3s-UvpN"
      }
    },
    {
      "cell_type": "code",
      "source": [
        "def simple(): pass"
      ],
      "metadata": {
        "id": "YFWnMZ00UmyN"
      },
      "execution_count": 3,
      "outputs": []
    },
    {
      "cell_type": "code",
      "source": [
        "def simple2():\n",
        "  print(\"Simple\")"
      ],
      "metadata": {
        "id": "uIQKGA3U6QX2"
      },
      "execution_count": 2,
      "outputs": []
    },
    {
      "cell_type": "code",
      "source": [
        "simple2()"
      ],
      "metadata": {
        "id": "-jq07HxpVI61",
        "outputId": "5c75c421-a193-46ed-cb6a-9871343b9221",
        "colab": {
          "base_uri": "https://localhost:8080/"
        }
      },
      "execution_count": 4,
      "outputs": [
        {
          "output_type": "stream",
          "name": "stdout",
          "text": [
            "Simple\n"
          ]
        }
      ]
    },
    {
      "cell_type": "markdown",
      "source": [
        "### Most useful Function"
      ],
      "metadata": {
        "id": "ZZyFKJr5VUSp"
      }
    },
    {
      "cell_type": "code",
      "source": [
        "def my_worker(fruit):\n",
        "  statement = f\"My favourite meal is chicken and {fruit}\"\n",
        "  meals={\"dinner\":statement}\n",
        "  return meals"
      ],
      "metadata": {
        "id": "SzxMc_pkVLZE"
      },
      "execution_count": 5,
      "outputs": []
    },
    {
      "cell_type": "code",
      "source": [
        "meal=my_worker(\"Apple\")\n",
        "meal"
      ],
      "metadata": {
        "id": "zC3cgmfsV5f1",
        "outputId": "d85acaac-d072-4c5e-ea7e-a5b81eafa831",
        "colab": {
          "base_uri": "https://localhost:8080/"
        }
      },
      "execution_count": 6,
      "outputs": [
        {
          "output_type": "execute_result",
          "data": {
            "text/plain": [
              "{'dinner': 'My favourite meal is chicken and Apple'}"
            ]
          },
          "metadata": {},
          "execution_count": 6
        }
      ]
    },
    {
      "cell_type": "code",
      "source": [
        "meal.keys()"
      ],
      "metadata": {
        "id": "DS4XiFi6WEul",
        "outputId": "3b44c740-7e02-4901-8ab7-8cbdc38b87f0",
        "colab": {
          "base_uri": "https://localhost:8080/"
        }
      },
      "execution_count": 7,
      "outputs": [
        {
          "output_type": "execute_result",
          "data": {
            "text/plain": [
              "dict_keys(['dinner'])"
            ]
          },
          "metadata": {},
          "execution_count": 7
        }
      ]
    },
    {
      "cell_type": "code",
      "source": [
        "def human(food):\n",
        "  consume=food[\"dinner\"]\n",
        "  return consume"
      ],
      "metadata": {
        "id": "UGgZ5bonWHKp"
      },
      "execution_count": 8,
      "outputs": []
    },
    {
      "cell_type": "code",
      "source": [
        "my_meal=human(meal)\n",
        "print(f\"I want my meal. It will be: {my_meal}\")"
      ],
      "metadata": {
        "id": "YTcm3SvqWV1Q",
        "outputId": "22c01b37-007b-4e26-fd31-cbc493ccf274",
        "colab": {
          "base_uri": "https://localhost:8080/"
        }
      },
      "execution_count": 9,
      "outputs": [
        {
          "output_type": "stream",
          "name": "stdout",
          "text": [
            "I want my meal. It will be: My favourite meal is chicken and Apple\n"
          ]
        }
      ]
    },
    {
      "cell_type": "code",
      "execution_count": 6,
      "metadata": {
        "id": "nvFzDKDIWk0S"
      },
      "outputs": [],
      "source": [
        "def simple(): pass"
      ]
    },
    {
      "cell_type": "code",
      "execution_count": 5,
      "metadata": {},
      "outputs": [],
      "source": [
        "def simple2():\n",
        "    print(\"simple\")"
      ]
    },
    {
      "cell_type": "code",
      "execution_count": 8,
      "metadata": {},
      "outputs": [
        {
          "name": "stdout",
          "output_type": "stream",
          "text": [
            "simple\n"
          ]
        }
      ],
      "source": [
        "simple2()"
      ]
    },
    {
      "cell_type": "markdown",
      "metadata": {},
      "source": [
        "### Most useful Functions"
      ]
    },
    {
      "cell_type": "code",
      "execution_count": 9,
      "metadata": {},
      "outputs": [],
      "source": [
        "def my_worker(fruit):\n",
        "    statement= f\"My favourite meal is chicken and {fruit}\"\n",
        "    meals= {\"dinner\": statement}\n",
        "    return meals"
      ]
    },
    {
      "cell_type": "code",
      "execution_count": 11,
      "metadata": {},
      "outputs": [],
      "source": [
        "meal= my_worker(\"Apple\")"
      ]
    },
    {
      "cell_type": "code",
      "execution_count": 12,
      "metadata": {},
      "outputs": [
        {
          "data": {
            "text/plain": [
              "dict_keys(['dinner'])"
            ]
          },
          "execution_count": 12,
          "metadata": {},
          "output_type": "execute_result"
        }
      ],
      "source": [
        "meal.keys()"
      ]
    },
    {
      "cell_type": "code",
      "execution_count": 13,
      "metadata": {},
      "outputs": [],
      "source": [
        "def human(food):\n",
        "    consume = food[\"dinner\"]\n",
        "    return consume"
      ]
    },
    {
      "cell_type": "code",
      "execution_count": 14,
      "metadata": {},
      "outputs": [
        {
          "name": "stdout",
          "output_type": "stream",
          "text": [
            "I want my meal. it will be: My favourite meal is chicken and Apple\n"
          ]
        }
      ],
      "source": [
        "my_meal=human(meal)\n",
        "print(f\"I want my meal. it will be: {my_meal}\")"
      ]
    }
  ],
  "metadata": {
    "colab": {
      "authorship_tag": "ABX9TyN33XVkImWzyd+dPG6csgqB",
      "include_colab_link": true,
      "provenance": [],
      "toc_visible": true
    },
    "kernelspec": {
      "display_name": "Python 3",
      "name": "python3"
    },
    "language_info": {
      "codemirror_mode": {
        "name": "ipython",
        "version": 3
      },
      "file_extension": ".py",
      "mimetype": "text/x-python",
      "name": "python",
      "nbconvert_exporter": "python",
      "pygments_lexer": "ipython3",
      "version": "3.10.13"
    }
  },
  "nbformat": 4,
  "nbformat_minor": 0
}
