{
  "cells": [
    {
      "cell_type": "markdown",
      "metadata": {
        "colab_type": "text",
        "id": "view-in-github"
      },
      "source": [
        "<a href=\"https://colab.research.google.com/github/SamsonOluwaseun/Python-Function-from-zero/blob/main/Statements.ipynb\" target=\"_parent\"><img src=\"https://colab.research.google.com/assets/colab-badge.svg\" alt=\"Open In Colab\"/></a>"
      ]
    },
    {
      "cell_type": "markdown",
      "metadata": {
        "id": "C9T8Ar1R2WjX"
      },
      "source": [
        "## Learning statements"
      ]
    },
    {
      "cell_type": "code",
      "execution_count": null,
      "metadata": {
        "colab": {
          "base_uri": "https://localhost:8080/"
        },
        "id": "a-z4Ap7Q1vyT",
        "outputId": "0473abd8-de73-4f71-e5c2-3036d06c98a4"
      },
      "outputs": [
        {
          "name": "stdout",
          "output_type": "stream",
          "text": [
            "hello world\n"
          ]
        }
      ],
      "source": [
        "print(\"hello world\")"
      ]
    },
    {
      "cell_type": "markdown",
      "metadata": {
        "id": "e2IiWoT12f8h"
      },
      "source": [
        "### Variables"
      ]
    },
    {
      "cell_type": "code",
      "execution_count": null,
      "metadata": {
        "id": "lgYhn0nT2KFH"
      },
      "outputs": [],
      "source": [
        "variable = 1"
      ]
    },
    {
      "cell_type": "markdown",
      "metadata": {
        "id": "pFtKRnh_3pxl"
      },
      "source": [
        "## Data Structures"
      ]
    },
    {
      "cell_type": "markdown",
      "metadata": {
        "id": "FSK1QbKw4NwE"
      },
      "source": [
        "### Lists"
      ]
    },
    {
      "cell_type": "code",
      "execution_count": null,
      "metadata": {
        "id": "dKG2Smnp3y6F"
      },
      "outputs": [],
      "source": [
        "my_list= [1,2,3]"
      ]
    },
    {
      "cell_type": "code",
      "execution_count": null,
      "metadata": {
        "colab": {
          "base_uri": "https://localhost:8080/"
        },
        "id": "1L7Vih7p32fi",
        "outputId": "02dd5c48-790a-401c-cae7-c23b88d7bed6"
      },
      "outputs": [
        {
          "data": {
            "text/plain": [
              "1"
            ]
          },
          "execution_count": 10,
          "metadata": {},
          "output_type": "execute_result"
        }
      ],
      "source": [
        "my_list[0]"
      ]
    },
    {
      "cell_type": "code",
      "execution_count": null,
      "metadata": {
        "id": "wHvIeHIY5Gyc"
      },
      "outputs": [],
      "source": []
    },
    {
      "cell_type": "markdown",
      "metadata": {
        "id": "VENUXL0h42ZB"
      },
      "source": [
        "### Dictionary\n",
        "Key value pairs"
      ]
    },
    {
      "cell_type": "code",
      "execution_count": null,
      "metadata": {
        "id": "42owWU7m4LKo"
      },
      "outputs": [],
      "source": [
        "my_dict={1:\"one\",2:\"Two\"}"
      ]
    },
    {
      "cell_type": "code",
      "execution_count": null,
      "metadata": {
        "colab": {
          "base_uri": "https://localhost:8080/"
        },
        "id": "rl6V9x1B5BzB",
        "outputId": "31cbfa02-6a16-4e1f-b604-269e6ccc35c4"
      },
      "outputs": [
        {
          "data": {
            "text/plain": [
              "dict"
            ]
          },
          "execution_count": 12,
          "metadata": {},
          "output_type": "execute_result"
        }
      ],
      "source": [
        "type(my_dict)"
      ]
    },
    {
      "cell_type": "code",
      "execution_count": null,
      "metadata": {
        "colab": {
          "base_uri": "https://localhost:8080/"
        },
        "id": "K6qLcDhc5EcS",
        "outputId": "876e7660-ec9b-403f-f68a-2e28112ac39a"
      },
      "outputs": [
        {
          "data": {
            "text/plain": [
              "dict_keys([1, 2])"
            ]
          },
          "execution_count": 13,
          "metadata": {},
          "output_type": "execute_result"
        }
      ],
      "source": [
        "my_dict.keys()"
      ]
    },
    {
      "cell_type": "code",
      "execution_count": null,
      "metadata": {
        "colab": {
          "base_uri": "https://localhost:8080/"
        },
        "id": "79lppPXK5Q_n",
        "outputId": "cc462f3d-2f8a-4d40-f781-97ebd3b5f268"
      },
      "outputs": [
        {
          "data": {
            "text/plain": [
              "dict_values(['one', 'Two'])"
            ]
          },
          "execution_count": 14,
          "metadata": {},
          "output_type": "execute_result"
        }
      ],
      "source": [
        "my_dict.values()"
      ]
    },
    {
      "cell_type": "markdown",
      "metadata": {
        "id": "JNPNdVC85beR"
      },
      "source": [
        "### Loops"
      ]
    },
    {
      "cell_type": "code",
      "execution_count": null,
      "metadata": {
        "colab": {
          "base_uri": "https://localhost:8080/"
        },
        "id": "OxWo16jL5Uow",
        "outputId": "0001fc36-1632-4732-85bd-793f0959b5ba"
      },
      "outputs": [
        {
          "name": "stdout",
          "output_type": "stream",
          "text": [
            "this is my key: 1\n",
            "this is my value: one\n",
            "this is my key: 2\n",
            "this is my value: Two\n"
          ]
        }
      ],
      "source": [
        "for key,value in my_dict.items():\n",
        "  print(f\"this is my key: {key}\")\n",
        "  print(f\"this is my value: {value}\")"
      ]
    },
    {
      "cell_type": "code",
      "execution_count": null,
      "metadata": {
        "colab": {
          "base_uri": "https://localhost:8080/"
        },
        "id": "CwMUQSyi6HiT",
        "outputId": "1c8019dd-4171-4f45-a3a4-916acf2ac126"
      },
      "outputs": [
        {
          "name": "stdout",
          "output_type": "stream",
          "text": [
            "This is a value in my list: 1\n",
            "This is a value in my list: 2\n",
            "This is a value in my list: 3\n"
          ]
        }
      ],
      "source": [
        "for items in my_list:\n",
        "  print(f\"This is a value in my list: {items}\")\n"
      ]
    },
    {
      "cell_type": "markdown",
      "metadata": {
        "id": "5E7qoyPwUin2"
      },
      "source": [
        "# Functions"
      ]
    },
    {
      "cell_type": "markdown",
      "metadata": {
        "id": "BsjtF3s-UvpN"
      },
      "source": [
        "### Styles of Functions"
      ]
    },
    {
      "cell_type": "code",
      "execution_count": 3,
      "metadata": {
        "id": "YFWnMZ00UmyN"
      },
      "outputs": [],
      "source": [
        "def simple(): pass"
      ]
    },
    {
      "cell_type": "code",
      "execution_count": 2,
      "metadata": {
        "id": "uIQKGA3U6QX2"
      },
      "outputs": [],
      "source": [
        "def simple2():\n",
        "  print(\"Simple\")"
      ]
    },
    {
      "cell_type": "code",
      "execution_count": 4,
      "metadata": {
        "colab": {
          "base_uri": "https://localhost:8080/"
        },
        "id": "-jq07HxpVI61",
        "outputId": "5c75c421-a193-46ed-cb6a-9871343b9221"
      },
      "outputs": [
        {
          "name": "stdout",
          "output_type": "stream",
          "text": [
            "Simple\n"
          ]
        }
      ],
      "source": [
        "simple2()"
      ]
    },
    {
      "cell_type": "markdown",
      "metadata": {
        "id": "ZZyFKJr5VUSp"
      },
      "source": [
        "### Most useful Function"
      ]
    },
    {
      "cell_type": "code",
      "execution_count": 5,
      "metadata": {
        "id": "SzxMc_pkVLZE"
      },
      "outputs": [],
      "source": [
        "def my_worker(fruit):\n",
        "  statement = f\"My favourite meal is chicken and {fruit}\"\n",
        "  meals={\"dinner\":statement}\n",
        "  return meals"
      ]
    },
    {
      "cell_type": "code",
      "execution_count": 6,
      "metadata": {
        "colab": {
          "base_uri": "https://localhost:8080/"
        },
        "id": "zC3cgmfsV5f1",
        "outputId": "d85acaac-d072-4c5e-ea7e-a5b81eafa831"
      },
      "outputs": [
        {
          "data": {
            "text/plain": [
              "{'dinner': 'My favourite meal is chicken and Apple'}"
            ]
          },
          "execution_count": 6,
          "metadata": {},
          "output_type": "execute_result"
        }
      ],
      "source": [
        "meal=my_worker(\"Apple\")\n",
        "meal"
      ]
    },
    {
      "cell_type": "code",
      "execution_count": 7,
      "metadata": {
        "colab": {
          "base_uri": "https://localhost:8080/"
        },
        "id": "DS4XiFi6WEul",
        "outputId": "3b44c740-7e02-4901-8ab7-8cbdc38b87f0"
      },
      "outputs": [
        {
          "data": {
            "text/plain": [
              "dict_keys(['dinner'])"
            ]
          },
          "execution_count": 7,
          "metadata": {},
          "output_type": "execute_result"
        }
      ],
      "source": [
        "meal.keys()"
      ]
    },
    {
      "cell_type": "code",
      "execution_count": 8,
      "metadata": {
        "id": "UGgZ5bonWHKp"
      },
      "outputs": [],
      "source": [
        "def human(food):\n",
        "  consume=food[\"dinner\"]\n",
        "  return consume"
      ]
    },
    {
      "cell_type": "code",
      "execution_count": 9,
      "metadata": {
        "colab": {
          "base_uri": "https://localhost:8080/"
        },
        "id": "YTcm3SvqWV1Q",
        "outputId": "22c01b37-007b-4e26-fd31-cbc493ccf274"
      },
      "outputs": [
        {
          "name": "stdout",
          "output_type": "stream",
          "text": [
            "I want my meal. It will be: My favourite meal is chicken and Apple\n"
          ]
        }
      ],
      "source": [
        "my_meal=human(meal)\n",
        "print(f\"I want my meal. It will be: {my_meal}\")"
      ]
    },
    {
      "cell_type": "code",
      "execution_count": null,
      "metadata": {
        "id": "nvFzDKDIWk0S"
      },
      "outputs": [],
      "source": []
    }
  ],
  "metadata": {
    "colab": {
      "authorship_tag": "ABX9TyO99W3RpmLMk+Rg7s1V4Lgj",
      "include_colab_link": true,
      "provenance": [],
      "toc_visible": true
    },
    "kernelspec": {
      "display_name": "Python 3",
      "name": "python3"
    },
    "language_info": {
      "name": "python",
      "version": "3.10.13"
    }
  },
  "nbformat": 4,
  "nbformat_minor": 0
}
