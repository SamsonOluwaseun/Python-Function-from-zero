{
  "nbformat": 4,
  "nbformat_minor": 0,
  "metadata": {
    "colab": {
      "provenance": [],
      "toc_visible": true,
      "authorship_tag": "ABX9TyN33XVkImWzyd+dPG6csgqB",
      "include_colab_link": true
    },
    "kernelspec": {
      "name": "python3",
      "display_name": "Python 3"
    },
    "language_info": {
      "name": "python"
    }
  },
  "cells": [
    {
      "cell_type": "markdown",
      "metadata": {
        "id": "view-in-github",
        "colab_type": "text"
      },
      "source": [
        "<a href=\"https://colab.research.google.com/github/SamsonOluwaseun/Python-Function-from-zero/blob/main/Statements.ipynb\" target=\"_parent\"><img src=\"https://colab.research.google.com/assets/colab-badge.svg\" alt=\"Open In Colab\"/></a>"
      ]
    },
    {
      "cell_type": "markdown",
      "source": [
        "## Learning statements"
      ],
      "metadata": {
        "id": "C9T8Ar1R2WjX"
      }
    },
    {
      "cell_type": "code",
      "execution_count": 5,
      "metadata": {
        "colab": {
          "base_uri": "https://localhost:8080/"
        },
        "id": "a-z4Ap7Q1vyT",
        "outputId": "0473abd8-de73-4f71-e5c2-3036d06c98a4"
      },
      "outputs": [
        {
          "output_type": "stream",
          "name": "stdout",
          "text": [
            "hello world\n"
          ]
        }
      ],
      "source": [
        "print(\"hello world\")"
      ]
    },
    {
      "cell_type": "markdown",
      "source": [
        "### Variables"
      ],
      "metadata": {
        "id": "e2IiWoT12f8h"
      }
    },
    {
      "cell_type": "code",
      "source": [
        "variable = 1"
      ],
      "metadata": {
        "id": "lgYhn0nT2KFH"
      },
      "execution_count": 6,
      "outputs": []
    },
    {
      "cell_type": "markdown",
      "source": [
        "## Data Structures"
      ],
      "metadata": {
        "id": "pFtKRnh_3pxl"
      }
    },
    {
      "cell_type": "markdown",
      "source": [
        "### Lists"
      ],
      "metadata": {
        "id": "FSK1QbKw4NwE"
      }
    },
    {
      "cell_type": "code",
      "source": [
        "my_list= [1,2,3]"
      ],
      "metadata": {
        "id": "dKG2Smnp3y6F"
      },
      "execution_count": 8,
      "outputs": []
    },
    {
      "cell_type": "code",
      "source": [
        "my_list[0]"
      ],
      "metadata": {
        "colab": {
          "base_uri": "https://localhost:8080/"
        },
        "id": "1L7Vih7p32fi",
        "outputId": "02dd5c48-790a-401c-cae7-c23b88d7bed6"
      },
      "execution_count": 10,
      "outputs": [
        {
          "output_type": "execute_result",
          "data": {
            "text/plain": [
              "1"
            ]
          },
          "metadata": {},
          "execution_count": 10
        }
      ]
    },
    {
      "cell_type": "code",
      "source": [],
      "metadata": {
        "id": "wHvIeHIY5Gyc"
      },
      "execution_count": null,
      "outputs": []
    },
    {
      "cell_type": "markdown",
      "source": [
        "### Dictionary\n",
        "Key value pairs"
      ],
      "metadata": {
        "id": "VENUXL0h42ZB"
      }
    },
    {
      "cell_type": "code",
      "source": [
        "my_dict={1:\"one\",2:\"Two\"}"
      ],
      "metadata": {
        "id": "42owWU7m4LKo"
      },
      "execution_count": 11,
      "outputs": []
    },
    {
      "cell_type": "code",
      "source": [
        "type(my_dict)"
      ],
      "metadata": {
        "colab": {
          "base_uri": "https://localhost:8080/"
        },
        "id": "rl6V9x1B5BzB",
        "outputId": "31cbfa02-6a16-4e1f-b604-269e6ccc35c4"
      },
      "execution_count": 12,
      "outputs": [
        {
          "output_type": "execute_result",
          "data": {
            "text/plain": [
              "dict"
            ]
          },
          "metadata": {},
          "execution_count": 12
        }
      ]
    },
    {
      "cell_type": "code",
      "source": [
        "my_dict.keys()"
      ],
      "metadata": {
        "colab": {
          "base_uri": "https://localhost:8080/"
        },
        "id": "K6qLcDhc5EcS",
        "outputId": "876e7660-ec9b-403f-f68a-2e28112ac39a"
      },
      "execution_count": 13,
      "outputs": [
        {
          "output_type": "execute_result",
          "data": {
            "text/plain": [
              "dict_keys([1, 2])"
            ]
          },
          "metadata": {},
          "execution_count": 13
        }
      ]
    },
    {
      "cell_type": "code",
      "source": [
        "my_dict.values()"
      ],
      "metadata": {
        "colab": {
          "base_uri": "https://localhost:8080/"
        },
        "id": "79lppPXK5Q_n",
        "outputId": "cc462f3d-2f8a-4d40-f781-97ebd3b5f268"
      },
      "execution_count": 14,
      "outputs": [
        {
          "output_type": "execute_result",
          "data": {
            "text/plain": [
              "dict_values(['one', 'Two'])"
            ]
          },
          "metadata": {},
          "execution_count": 14
        }
      ]
    },
    {
      "cell_type": "markdown",
      "source": [
        "### Loops"
      ],
      "metadata": {
        "id": "JNPNdVC85beR"
      }
    },
    {
      "cell_type": "code",
      "source": [
        "for key,value in my_dict.items():\n",
        "  print(f\"this is my key: {key}\")\n",
        "  print(f\"this is my value: {value}\")"
      ],
      "metadata": {
        "colab": {
          "base_uri": "https://localhost:8080/"
        },
        "id": "OxWo16jL5Uow",
        "outputId": "0001fc36-1632-4732-85bd-793f0959b5ba"
      },
      "execution_count": 15,
      "outputs": [
        {
          "output_type": "stream",
          "name": "stdout",
          "text": [
            "this is my key: 1\n",
            "this is my value: one\n",
            "this is my key: 2\n",
            "this is my value: Two\n"
          ]
        }
      ]
    },
    {
      "cell_type": "code",
      "source": [
        "for items in my_list:\n",
        "  print(f\"This is a value in my list: {items}\")\n"
      ],
      "metadata": {
        "colab": {
          "base_uri": "https://localhost:8080/"
        },
        "id": "CwMUQSyi6HiT",
        "outputId": "1c8019dd-4171-4f45-a3a4-916acf2ac126"
      },
      "execution_count": 16,
      "outputs": [
        {
          "output_type": "stream",
          "name": "stdout",
          "text": [
            "This is a value in my list: 1\n",
            "This is a value in my list: 2\n",
            "This is a value in my list: 3\n"
          ]
        }
      ]
    },
    {
      "cell_type": "code",
      "source": [],
      "metadata": {
        "id": "uIQKGA3U6QX2"
      },
      "execution_count": null,
      "outputs": []
    }
  ]
}